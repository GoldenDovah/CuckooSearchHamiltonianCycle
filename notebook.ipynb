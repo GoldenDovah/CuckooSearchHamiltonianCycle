{
 "cells": [
  {
   "cell_type": "code",
   "execution_count": 1,
   "metadata": {},
   "outputs": [],
   "source": [
    "from itertools import combinations, groupby, islice\n",
    "import networkx as nx\n",
    "import matplotlib.pyplot as plt\n",
    "import random\n",
    "from math import gamma\n",
    "import numpy as np"
   ]
  },
  {
   "cell_type": "code",
   "execution_count": 2,
   "metadata": {},
   "outputs": [],
   "source": [
    "def generate_graph(nodes_list, edges_list):\n",
    "    G = nx.Graph()\n",
    "    \n",
    "    G.add_nodes_from(nodes_list)\n",
    "    G.add_edges_from(edges_list)\n",
    "    \n",
    "    return G"
   ]
  },
  {
   "cell_type": "code",
   "execution_count": 3,
   "metadata": {},
   "outputs": [],
   "source": [
    "def all_simple_cycles(graph, source_node, num_paths=3000):\n",
    "    selected_paths = []\n",
    "    path_counter = 0\n",
    "    \n",
    "    for path in nx.simple_cycles(graph):\n",
    "        if path_counter >= num_paths:\n",
    "                break\n",
    "        elif path[0] == source_node:\n",
    "            selected_paths.append(path)\n",
    "            path_counter += 1\n",
    "\n",
    "            \n",
    "    \n",
    "    return selected_paths"
   ]
  },
  {
   "cell_type": "code",
   "execution_count": 4,
   "metadata": {},
   "outputs": [],
   "source": [
    "def all_simple_cycles2(graph, source_node, num_paths=3000):\n",
    "    selected_paths = []\n",
    "    path_counter = 0\n",
    "    \n",
    "    for path in nx.simple_cycles(graph):\n",
    "        selected_paths.append(path)\n",
    "        path_counter += 1\n",
    "        \n",
    "        if path_counter >= num_paths:\n",
    "            break\n",
    "    \n",
    "    return selected_paths"
   ]
  },
  {
   "cell_type": "code",
   "execution_count": 5,
   "metadata": {},
   "outputs": [],
   "source": [
    "def evaluate_fitness(graph, path):\n",
    "    graph_num_nodes = nx.number_of_nodes(graph) + 1\n",
    "    num_nodes_in_path = len(path)\n",
    "    \n",
    "    solution_fitness = (graph_num_nodes - num_nodes_in_path)\n",
    "    \n",
    "    return solution_fitness"
   ]
  },
  {
   "cell_type": "code",
   "execution_count": 6,
   "metadata": {},
   "outputs": [],
   "source": [
    "def cuckoo_search(graph, source, population_size=20, generations=300, Pa=0.10):\n",
    "\n",
    "    # nbr of solution we are going to work with\n",
    "    n = population_size\n",
    "    max_iterations = generations\n",
    "    \n",
    "    # Number of bad solution to abandon (represents a 10% probability of host bird discovering that the eggs are not there's \n",
    "    # So they will totaly abandon there nests)\n",
    "    num_to_abandon = int(Pa * n)\n",
    "    \n",
    "    # the number of solution we will use\n",
    "    nbr_population = generations * 3\n",
    "\n",
    "    # all_population = all_simple_cycles(graph, source, num_paths=9500)\n",
    "    all_population = all_simple_cycles(graph, source, nbr_population)\n",
    "    \n",
    "    # this dictionary will store each path with its fitnes value\n",
    "    solutions_fitness_dict = {}\n",
    "\n",
    "    ## we will work with 50 possible solution\n",
    "    population = all_population[:n]\n",
    "    # the rest of the possible solutions we will work with them by generating new solutions from them.\n",
    "    not_used_population = all_population[n:]\n",
    "\n",
    "    best_path = None\n",
    "    best_fitness = float('-inf')\n",
    "    \n",
    "#     # Evaluate fitness for each cuckoo's path\n",
    "#     fitness_list = [evaluate_fitness(graph, path) for path in population]\n",
    "    \n",
    "#     print(fitness_list)\n",
    "\n",
    "    # generation\n",
    "    for generation in range(max_iterations):\n",
    "\n",
    "        # Evaluate fitness for each cuckoo's path\n",
    "        fitness_list = [evaluate_fitness(graph, path) for path in population]\n",
    "\n",
    "        # # Find the index of the best cuckoo\n",
    "        best_cuckoo_index = np.argmin(fitness_list)\n",
    "        best_path = population[best_cuckoo_index]\n",
    "        best_fitness = fitness_list[best_cuckoo_index]\n",
    "\n",
    "        # here we will generate a new cuckoo solution (egg)\n",
    "        # this should be upgraded from using random.choice -> to a function that walks using levy flights!   \n",
    "        new_cuckoo = random.choice(not_used_population) \n",
    "\n",
    "        # calculate the fitness of the new solution\n",
    "        new_cuckoo_fitness = evaluate_fitness(graph, new_cuckoo)\n",
    "\n",
    "        # Choose a nest randomly ( a nest is a random spossible solution from the population )\n",
    "        random_nest_index = random.randint(0, n - 1)\n",
    "\n",
    "        # compare the fitness value of the new cuckoo egg and the randomly selected eg of the nest. the replace the solution if the new one is better\n",
    "        if new_cuckoo_fitness < fitness_list[random_nest_index]:\n",
    "            population[random_nest_index] = new_cuckoo\n",
    "            not_used_population.remove(new_cuckoo)\n",
    "            \n",
    "        \n",
    "        \n",
    "    \n",
    "        # In case we have an increased number of eggs in the nest, abandon a fraction Pa of worst nests. this is to mimic the fact that there is a probability of Pa for the host ird to figure out the cuckoo egg.\n",
    "        if len(population) > n:\n",
    "            num_to_abandon = int(Pa * n)\n",
    "            indices_to_abandon = np.argpartition(fitness_list, num_to_abandon)[:num_to_abandon]\n",
    "            for index in indices_to_abandon:\n",
    "                population[index] = random.choice(not_used_population)\n",
    "\n",
    "\n",
    "    # Convert the best path to a list of edge tuples\n",
    "    best_path_edges = [(best_path[i], best_path[i + 1]) for i in range(len(best_path) - 1)]\n",
    "    \n",
    "#     print(f'Population List: {population}')\n",
    "#     print(f'Fitness List: {fitness_list}')\n",
    "\n",
    "    return best_path_edges, best_fitness"
   ]
  },
  {
   "cell_type": "code",
   "execution_count": 2,
   "metadata": {},
   "outputs": [],
   "source": [
    "cities = ['Agadir', 'Nador', 'Oujda', 'Rabat']\n",
    "cities_connections = [['Agadir', 'Nador'], ['Nador', 'Oujda'], ['Oujda', 'Rabat'], ['Rabat', 'Agadir']]\n",
    "cities_d = {}\n",
    "for i in range(len(cities)):\n",
    "    cities_d[cities[i]] = i\n",
    "edges = []\n",
    "for connection in cities_connections:\n",
    "    edges.append((cities_d[connection[0]], cities_d[connection[1]]))\n",
    "nodes = [x for x in range(len(cities))]\n"
   ]
  },
  {
   "cell_type": "code",
   "execution_count": 3,
   "metadata": {},
   "outputs": [
    {
     "data": {
      "text/plain": [
       "[(0, 1), (1, 2), (2, 3), (3, 0)]"
      ]
     },
     "execution_count": 3,
     "metadata": {},
     "output_type": "execute_result"
    }
   ],
   "source": [
    "edges"
   ]
  },
  {
   "cell_type": "code",
   "execution_count": null,
   "metadata": {},
   "outputs": [],
   "source": [
    "best_path_edges, best_fitness = cuckoo_search(graph=g, source=0)\n",
    "\n",
    "print(f'best_path_edges: {best_path_edges}')\n",
    "print(f'best_fitness: {best_fitness}')"
   ]
  }
 ],
 "metadata": {
  "kernelspec": {
   "display_name": "Python 3.11.0 64-bit",
   "language": "python",
   "name": "python3"
  },
  "language_info": {
   "codemirror_mode": {
    "name": "ipython",
    "version": 3
   },
   "file_extension": ".py",
   "mimetype": "text/x-python",
   "name": "python",
   "nbconvert_exporter": "python",
   "pygments_lexer": "ipython3",
   "version": "3.11.0"
  },
  "orig_nbformat": 4,
  "vscode": {
   "interpreter": {
    "hash": "c261aea317cc0286b3b3261fbba9abdec21eaa57589985bb7a274bf54d6cc0a7"
   }
  }
 },
 "nbformat": 4,
 "nbformat_minor": 2
}
